{
  "nbformat": 4,
  "nbformat_minor": 0,
  "metadata": {
    "colab": {
      "provenance": []
    },
    "kernelspec": {
      "name": "python3",
      "display_name": "Python 3"
    },
    "language_info": {
      "name": "python"
    }
  },
  "cells": [
    {
      "cell_type": "markdown",
      "source": [
        "1)  What is the difference between descriptive statistics and inferential\n",
        "statistics? Explain with examples.\n",
        "\n",
        "Ans) The difference between the descriptive and the inferential statistics is that in descriptive statistics it consists of organising and summarising the complete data / whole population. But in inferential statistics it consist of using sample data and drawing conclusion for all the data / whole population.\n",
        "\n",
        "The example for the descriptive statistics is to take the mean of the height of the students in a class.\n",
        "\n",
        "The example for the inferential statistics is to take the mean of the length of the hairs on our head."
      ],
      "metadata": {
        "id": "2pGMK3i0c89c"
      }
    },
    {
      "cell_type": "markdown",
      "source": [],
      "metadata": {
        "id": "NlThoVsjeHwo"
      }
    },
    {
      "cell_type": "markdown",
      "source": [
        "2) What is sampling in statistics? Explain the differences between random\n",
        "and stratified sampling.\n",
        "\n",
        "Ans) Sampling is the method of gathering information for a population without surveying every individual.\n",
        "\n",
        "The difference between the Random Sampling and Stratified Sampling is in the Random Sampling every individual has an equal chance of getting selected and there is no chance of bias. But in Stratified Sampling people of certain strata / layers get selected so there is bright chances for biasness for a group"
      ],
      "metadata": {
        "id": "yFfISc6IeMJs"
      }
    },
    {
      "cell_type": "markdown",
      "source": [
        "3) Define mean, median, and mode. Explain why these measures of central\n",
        "tendency are important.\n",
        "\n",
        "Ans) Mean : Mean is like average i.e. summing all the value and dividing it with total number of values\n",
        "\n",
        "Median : Median is the physical mid point of the data\n",
        "\n",
        "Mode : Mode is the value with the highest frequency in the data\n",
        "\n",
        "These values are important as it tells much about the data itself and can be used to replace the null value with it."
      ],
      "metadata": {
        "id": "CqDvnZjLfVcw"
      }
    },
    {
      "cell_type": "markdown",
      "source": [
        "4)  Explain skewness and kurtosis. What does a positive skew imply about the\n",
        "data?\n",
        "\n",
        "Ans) Skewness tells you whether your data leans to one side or not.\n",
        "\n",
        "Kurtosis tells whether how flat or peaked a data is.\n",
        "\n",
        "Positive skew means the data extends to the right side"
      ],
      "metadata": {
        "id": "LFOO4Jnng9F8"
      }
    },
    {
      "cell_type": "code",
      "execution_count": 8,
      "metadata": {
        "colab": {
          "base_uri": "https://localhost:8080/"
        },
        "id": "pY7MsUglc4po",
        "outputId": "b0426ac5-dd51-4313-e1f0-95b6174a41d3"
      },
      "outputs": [
        {
          "output_type": "stream",
          "name": "stdout",
          "text": [
            "19.6\n",
            "19\n",
            "12\n"
          ]
        }
      ],
      "source": [
        "# 5) : Implement a Python program to compute the mean, median, and mode of a given list of numbers.\n",
        "#       numbers = [12, 15, 12, 18, 19, 12, 20, 22, 19, 19, 24, 24, 24, 26, 28]\n",
        "\n",
        "\n",
        "import statistics\n",
        "numbers = [12, 15, 12, 18, 19, 12, 20, 22, 19, 19, 24, 24, 24, 26, 28]\n",
        "\n",
        "print(statistics.mean(numbers))\n",
        "print(statistics.median(numbers))\n",
        "print(statistics.mode(numbers))\n"
      ]
    },
    {
      "cell_type": "code",
      "source": [
        "# 6) Compute the covariance and correlation coefficient between the following two datasets provided as lists in Python:\n",
        "# list_x = [10, 20, 30, 40, 50]\n",
        "# list_y = [15, 25, 35, 45, 60]\n",
        "\n",
        "\n",
        "import statistics\n",
        "list_x = [10, 20, 30, 40, 50]\n",
        "list_y = [15, 25, 35, 45, 60]\n",
        "\n",
        "print(statistics.covariance(list_x, list_y))\n",
        "print(statistics.correlation(list_x, list_y))\n"
      ],
      "metadata": {
        "colab": {
          "base_uri": "https://localhost:8080/"
        },
        "id": "kXa5d_DFjWAi",
        "outputId": "ef5512dc-27ba-4c8f-d5ae-2ece2d6e61cb"
      },
      "execution_count": 9,
      "outputs": [
        {
          "output_type": "stream",
          "name": "stdout",
          "text": [
            "275.0\n",
            "0.9958932064677039\n"
          ]
        }
      ]
    },
    {
      "cell_type": "code",
      "source": [
        " # 7) Write a Python script to draw a boxplot for the following numeric list and identify its outliers. Explain the result:\n",
        "# data = [12, 14, 14, 15, 18, 19, 19, 21, 22, 22, 23, 23, 24, 26, 29, 35]\n",
        "\n",
        "\n",
        "import seaborn as sns\n",
        "data = [12, 14, 14, 15, 18, 19, 19, 21, 22, 22, 23, 23, 24, 26, 29, 35]\n",
        "sns.boxplot(data)\n",
        "\n",
        "\n",
        "# Outliers as seen in the data is around 10 at the bottom and arounf 30 at the top. Means the value less than 10 is an outlier and the data greater than 30 is also an outlier"
      ],
      "metadata": {
        "colab": {
          "base_uri": "https://localhost:8080/",
          "height": 429
        },
        "id": "PzCg22oJkblj",
        "outputId": "e0796c2a-c5d5-4368-e8eb-a17ac807c412"
      },
      "execution_count": 10,
      "outputs": [
        {
          "output_type": "execute_result",
          "data": {
            "text/plain": [
              "<Axes: >"
            ]
          },
          "metadata": {},
          "execution_count": 10
        },
        {
          "output_type": "display_data",
          "data": {
            "text/plain": [
              "<Figure size 640x480 with 1 Axes>"
            ],
            "image/png": "[encoded data removed]"
          },
          "metadata": {}
        }
      ]
    },
    {
      "cell_type": "code",
      "source": [
        "# 8)  You are working as a data analyst in an e-commerce company. The marketing team wants to know if there is a relationship between advertising spend and daily sales.\n",
        "# ● Explain how you would use covariance and correlation to explore this relationship.\n",
        "# ● Write Python code to compute the correlation between the two lists:\n",
        "\n",
        "# advertising_spend = [200, 250, 300, 400, 500]\n",
        "# daily_sales = [2200, 2450, 2750, 3200, 4000]\n",
        "\n",
        "\n",
        "\"\"\" We can use the covariance and correlation to study the relationship between two as\n",
        "Covariance : If positive, means the daily_sales tends to increase with increasing in the advertising_spend, and If negative means that the daily_sales tends to decrease with the increase in advertising_spend and If the covariance is 0 means there is no consistent trend between the two\n",
        "Correlation : It values tends from -1 to 1. If 1 then its perfect positive corelation (increase in avertising_spend increases daily_sales). If -1 then its perfect negative corelation (increase in avertising_spend decreases daily_sales) and if 0 then no linear relationship.\"\"\"\n",
        "\n",
        "import statistics\n",
        "advertising_spend = [200, 250, 300, 400, 500]\n",
        "daily_sales = [2200, 2450, 2750, 3200, 4000]\n",
        "\n",
        "statistics.correlation(advertising_spend, daily_sales)      # As the value is 0.99 approx 1 it means daily_sales has perfect positive correlation with the advertising_spend\n"
      ],
      "metadata": {
        "colab": {
          "base_uri": "https://localhost:8080/"
        },
        "id": "BdMpkyMolABP",
        "outputId": "301042ff-4d15-45d5-bdaf-94e731818118"
      },
      "execution_count": 14,
      "outputs": [
        {
          "output_type": "execute_result",
          "data": {
            "text/plain": [
              "0.9935824101653327"
            ]
          },
          "metadata": {},
          "execution_count": 14
        }
      ]
    },
    {
      "cell_type": "code",
      "source": [
        "# 9) Your team has collected customer satisfaction survey data on a scale of 1-10 and wants to understand its distribution before launching a new product.\n",
        "# ● Explain which summary statistics and visualizations (e.g. mean, standard deviation, histogram) you’d use.\n",
        "# ● Write Python code to create a histogram using Matplotlib for the survey data:\n",
        "# survey_scores = [7, 8, 5, 9, 6, 7, 8, 9, 10, 4, 7, 6, 9, 8, 7]\n",
        "\n",
        "\"\"\" I will use mean as a summary statistics as it will tell the overall satisfaction level of the customers and for visualisation histogram will be best as it will show clusters and skews and peaks for the future of the product\"\"\"\n",
        "\n",
        "\n",
        "import matplotlib.pyplot as plt\n",
        "import statistics\n",
        "survey_scores = [7, 8, 5, 9, 6, 7, 8, 9, 10, 4, 7, 6, 9, 8, 7]\n",
        "\n",
        "\n",
        "# Printing the mean\n",
        "print(statistics.mean(survey_scores))\n",
        "\n",
        "# Representing the histogram\n",
        "plt.hist(survey_scores)\n",
        "plt.show()"
      ],
      "metadata": {
        "colab": {
          "base_uri": "https://localhost:8080/",
          "height": 448
        },
        "id": "hPGb72xVmrFA",
        "outputId": "9791549f-d7e3-4c59-d9bf-2be778ad1074"
      },
      "execution_count": 16,
      "outputs": [
        {
          "output_type": "stream",
          "name": "stdout",
          "text": [
            "7.333333333333333\n"
          ]
        },
        {
          "output_type": "display_data",
          "data": {
            "text/plain": [
              "<Figure size 640x480 with 1 Axes>"
            ],
            "image/png": "[encoded data removed]"
          },
          "metadata": {}
        }
      ]
    },
    {
      "cell_type": "code",
      "source": [],
      "metadata": {
        "id": "_iOC8jE-rE_i"
      },
      "execution_count": null,
      "outputs": []
    }
  ]
}